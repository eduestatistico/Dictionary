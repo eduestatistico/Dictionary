{
  "nbformat": 4,
  "nbformat_minor": 0,
  "metadata": {
    "colab": {
      "provenance": [],
      "authorship_tag": "ABX9TyNCG2OGv2/w8VnpDwXI6GPt",
      "include_colab_link": true
    },
    "kernelspec": {
      "name": "python3",
      "display_name": "Python 3"
    },
    "language_info": {
      "name": "python"
    }
  },
  "cells": [
    {
      "cell_type": "markdown",
      "metadata": {
        "id": "view-in-github",
        "colab_type": "text"
      },
      "source": [
        "<a href=\"https://colab.research.google.com/github/eduestatistico/Dictionary/blob/main/BAIXAR_AUDIO_YouTube.ipynb\" target=\"_parent\"><img src=\"https://colab.research.google.com/assets/colab-badge.svg\" alt=\"Open In Colab\"/></a>"
      ]
    },
    {
      "cell_type": "markdown",
      "source": [
        "# Baixando músicas do YouTube direto para o Google Drive\n",
        "Esse código é muito fácil de entender! Sabemos que as vezes queremos baixar algum áudio, seja de música, Podecast ou outro, e há várias opções gratuítas na web, porém, com várias propagandas e vírus. Aqui, vamos aprender um métodos fácil e simples de baixar esses áudios."
      ],
      "metadata": {
        "id": "KehZwmXPNp3q"
      }
    },
    {
      "cell_type": "code",
      "source": [
        "# Primeiro, vamos baixar uma versão mais antiga do Pandas, lembre-se que as bibliotecas estão sempre em atualização, pode ser que não sirva usar isso quando vc for rodar.\n",
        "!pip install pandas <= 2.00\n",
        "\n"
      ],
      "metadata": {
        "colab": {
          "base_uri": "https://localhost:8080/"
        },
        "id": "fV2qYqZzInrr",
        "outputId": "3103ac75-399d-4098-f8d3-ea25da6fd74f"
      },
      "execution_count": 2,
      "outputs": [
        {
          "output_type": "stream",
          "name": "stdout",
          "text": [
            "/bin/bash: line 1: =: No such file or directory\n"
          ]
        }
      ]
    },
    {
      "cell_type": "markdown",
      "source": [
        "# Pytube\n",
        "Aqui, vamos baixar a biblioteca responsávio pelo download."
      ],
      "metadata": {
        "id": "CNiEuf9z6ldf"
      }
    },
    {
      "cell_type": "code",
      "source": [
        "!pip install pytube"
      ],
      "metadata": {
        "colab": {
          "base_uri": "https://localhost:8080/"
        },
        "id": "3b7aOwyQ0fL7",
        "outputId": "1622e82a-2948-472c-b1d6-804c050cdf78"
      },
      "execution_count": 3,
      "outputs": [
        {
          "output_type": "stream",
          "name": "stdout",
          "text": [
            "Collecting pytube\n",
            "  Downloading pytube-15.0.0-py3-none-any.whl (57 kB)\n",
            "\u001b[2K     \u001b[90m━━━━━━━━━━━━━━━━━━━━━━━━━━━━━━━━━━━━━━━━\u001b[0m \u001b[32m57.6/57.6 kB\u001b[0m \u001b[31m1.8 MB/s\u001b[0m eta \u001b[36m0:00:00\u001b[0m\n",
            "\u001b[?25hInstalling collected packages: pytube\n",
            "Successfully installed pytube-15.0.0\n"
          ]
        }
      ]
    },
    {
      "cell_type": "markdown",
      "source": [
        "# Google Drive\n",
        "Vamos conectar ao nosso Google Drive: irá aparecer uma janela, e só conectar-se com seu e-mail e senha."
      ],
      "metadata": {
        "id": "dkhMTUxKO3M0"
      }
    },
    {
      "cell_type": "code",
      "source": [
        "from pytube import YouTube\n",
        "from google.colab import drive\n",
        "drive.mount('/content/drive')"
      ],
      "metadata": {
        "colab": {
          "base_uri": "https://localhost:8080/"
        },
        "id": "0ETS31wsz_uC",
        "outputId": "94c925bc-7cfe-4757-eaa3-41369e546f75"
      },
      "execution_count": 7,
      "outputs": [
        {
          "output_type": "stream",
          "name": "stdout",
          "text": [
            "Drive already mounted at /content/drive; to attempt to forcibly remount, call drive.mount(\"/content/drive\", force_remount=True).\n"
          ]
        }
      ]
    },
    {
      "cell_type": "markdown",
      "source": [
        "# Baixando\n",
        "\n"
      ],
      "metadata": {
        "id": "QCXRFD9A6q9v"
      }
    },
    {
      "cell_type": "code",
      "execution_count": 10,
      "metadata": {
        "colab": {
          "base_uri": "https://localhost:8080/"
        },
        "id": "HNsAH-OnzzGz",
        "outputId": "dc36d91e-43e9-4e19-cbe3-62ec844c36d6"
      },
      "outputs": [
        {
          "output_type": "stream",
          "name": "stdout",
          "text": [
            "Download concluído com sucesso!\n"
          ]
        }
      ],
      "source": [
        "\n",
        "# URL do vídeo do YouTube (apenas copie e cole o link do vídeo que queira baixar)\n",
        "url = \"https://www.youtube.com/watch?v=ttPrlVYFmXU\"\n",
        "\n",
        "# Crie um objeto YouTube\n",
        "yt = YouTube(url)\n",
        "\n",
        "# Selecione a melhor qualidade de áudio\n",
        "audio_stream = yt.streams.filter(only_audio=True, file_extension='mp4').first()\n",
        "\n",
        "# Baixe o áudio (insira o ccaminho da pasta para onde queira enviar o arquivo)\n",
        "audio_stream.download(output_path= \"/content/drive/MyDrive/ESPAÇO ESTATÍSTICO/CÓDIGOS/PYTHON/PROGRAMAS/BAIXAR MUSICA\")\n",
        "\n",
        "print(\"Download concluído com sucesso!\")"
      ]
    }
  ]
}